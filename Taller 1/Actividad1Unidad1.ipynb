{
 "cells": [
  {
   "cell_type": "markdown",
   "metadata": {},
   "source": [
    "# Listado de Ejercicios a realizar\n",
    "Estudiante: Rafael Dolmedes Ortiz Roncallo"
   ]
  },
  {
   "cell_type": "markdown",
   "metadata": {},
   "source": [
    "## 1. Sin usar el computador, evalúe las siguientes expresiones, y para cada una de ellas indique el resultado y su tipo (si la expresión es válida) o qué error ocurre:\n",
    "\n",
    "### Ejemplo\n",
    "- 2 + 3      # Respuesta: tipo int, valor 5\n",
    "- 4 / 0      # Respuesta: error de división por cero\n",
    "\n",
    "### Ejercicio\n",
    "\n",
    "- 5 + 3 * 4\n",
    "- '5' + '3' * 2\n",
    "- 2 ** 11 == 1000 or 2 ** 9 == 100\n",
    "- int(\"cincuenta\")\n",
    "- 16/16 + 384/24\n",
    "- 600 + 18%\n",
    "- 0 < (4096 % 10) < 6\n",
    "- 'Max' + 'Min'\n",
    "- ABC() * DEF()\n",
    "- float(-int('7') + int('90'))\n",
    "- abs(len('seis') - len('tres'))\n",
    "- bool(1210) or bool(-3465) \n",
    "- float(str(int('8' * 3) / 3)[3])"
   ]
  },
  {
   "cell_type": "markdown",
   "metadata": {},
   "source": [
    "### Respuesta:\n",
    "5 + 3 * 4      #Respuesta: tipo int, valor 17\n",
    "'5' + '3' * 2  #Respuesta: tipo str, valor 5353\n",
    "2**11 ==1000 or 2**9 == 100 #Respuesta: tipo boolean, valor False\n",
    "int(\"cincuenta\") #Respuesta: tipo error, la función int() convierte un valor a entero, no es posible en este caso\n",
    "\n",
    "16/16 + 384/24 #Respuesta: tipo int, valor 16\n",
    "600 + 18% #Respuesta: tipo error, el 18 modulo de que?\n",
    "0 < (4096 % 10) < 6 Respuesta: tipo boolean, valor True\n",
    "'Max' + 'Min' #Respuesta: tipo:str, valor 'MaxMin'\n",
    "ABC() * DEF() #Respuesta: tipo error, no son funciones\n",
    "float(-int('7') + int('90')) #Respuesta:tipo float, valor 83.0 \n",
    "abs(len('seis') - len('tres')) #Respuesta tipo:int, valor: 0\n",
    "bool(1210) or bool(-3465) #Respuesta tipo:boolean, valor: True, creo, porque no se realizan comparaciones\n",
    "float(str(int('8' * 3) / 3)[3]) #Respuesta tipo:error, no debería haber una posicion 3."
   ]
  },
  {
   "cell_type": "markdown",
   "metadata": {},
   "source": [
    "# 2. Imprima su nombre y fecha\n",
    "- Imprime: Jorge Alvarez - 20-04-2020"
   ]
  },
  {
   "cell_type": "code",
   "execution_count": 3,
   "metadata": {},
   "outputs": [
    {
     "name": "stdout",
     "output_type": "stream",
     "text": [
      "Rafael Ortiz - 19-07-2021\n"
     ]
    }
   ],
   "source": [
    "# Respuesta:\n",
    "from datetime import date\n",
    "print(\"Rafael Ortiz - \" + date.today().strftime(\"%d-%m-%Y\"))"
   ]
  },
  {
   "cell_type": "markdown",
   "metadata": {},
   "source": [
    "# 3. Solicite un nombre y que el programa salude\n",
    "### Ejemplo:\n",
    "- ingreso: 'Andres'\n",
    "- imprime: 'Hola Andres'"
   ]
  },
  {
   "cell_type": "code",
   "execution_count": 6,
   "metadata": {},
   "outputs": [
    {
     "name": "stdout",
     "output_type": "stream",
     "text": [
      "Ingrese su nombre:rafael\n",
      "Hola rafael\n"
     ]
    }
   ],
   "source": [
    "# Respuesta:\n",
    "nombre = input('Ingrese su nombre:')\n",
    "print(f\"Hola {nombre}\")"
   ]
  },
  {
   "cell_type": "markdown",
   "metadata": {},
   "source": [
    "# 4. Solicite el radio (un numero) de un círculo e imprima como salida su diámetro, perímetro y su área\n",
    "### Ejemplo\n",
    "- ingreso: 3 \n",
    "- imprime - Diametro: 6\n",
    "- imprime - Perimetro: 18.84\n",
    "- imprime - Area: 28.27"
   ]
  },
  {
   "cell_type": "code",
   "execution_count": 53,
   "metadata": {},
   "outputs": [
    {
     "name": "stdout",
     "output_type": "stream",
     "text": [
      "Radio:3\n",
      "Diametro: 6.0\n",
      "Perimetro:18.84955592153876\n",
      "Area: 28.274333882308138\n"
     ]
    }
   ],
   "source": [
    "# Respuesta:\n",
    "import math \n",
    "\n",
    "radio = float(input(\"Radio:\")) #Se parsea a int porque los valores recibidos por el usuario vienen como cadenas\n",
    "print(f\"Diametro: {2 * radio}\") \n",
    "print(f\"Perimetro:{2 * math.pi * radio }\")\n",
    "print(f\"Area: {math.pi * (radio ** 2)}\")"
   ]
  },
  {
   "cell_type": "markdown",
   "metadata": {},
   "source": [
    "# 5. Solicite 6 notas y calcule el promedio de ellas\n",
    "### Ejemplo\n",
    "- ingreso: 1 2 3 4 5 6\n",
    "- imprime: 3.5"
   ]
  },
  {
   "cell_type": "code",
   "execution_count": 60,
   "metadata": {},
   "outputs": [
    {
     "name": "stdout",
     "output_type": "stream",
     "text": [
      "Nota 1: 2\n",
      "Nota 2: 2\n",
      "Nota 3: 2\n",
      "Nota 4: 2\n",
      "Nota 5: 2\n",
      "Nota 6: 2\n",
      "2.0\n"
     ]
    }
   ],
   "source": [
    "# Respuesta:\n",
    "notas = []\n",
    "\n",
    "for i in range(6):\n",
    "    nota = input(\"Nota \" + str(i+1) + \": \")\n",
    "    notas.append(float(nota))\n",
    "print(sum(notas)/len(notas))"
   ]
  },
  {
   "cell_type": "markdown",
   "metadata": {},
   "source": [
    "# 6. Solicite un valor e imprima que tipo de dato es\n",
    "### Ejemplo\n",
    "- ingreso: 'A'\n",
    "- imprime: str\n",
    "- ingreso: 1\n",
    "- imprime: int"
   ]
  },
  {
   "cell_type": "code",
   "execution_count": 72,
   "metadata": {},
   "outputs": [
    {
     "name": "stdout",
     "output_type": "stream",
     "text": [
      "Ingresa el valor: 1\n"
     ]
    },
    {
     "data": {
      "text/plain": [
       "str"
      ]
     },
     "execution_count": 72,
     "metadata": {},
     "output_type": "execute_result"
    }
   ],
   "source": [
    "# Respuesta:\n",
    "valor = input(\"Ingresa el valor: \")\n",
    "if valor.isdigit == True:\n",
    "    valor = int(valor)\n",
    "type(valor)"
   ]
  },
  {
   "cell_type": "markdown",
   "metadata": {},
   "source": [
    "# 7. Escriba en código la siguiente ecuación\n",
    "$$ \\left(\\frac{5+3}{3-2}\\right)^2$$"
   ]
  },
  {
   "cell_type": "code",
   "execution_count": 31,
   "metadata": {},
   "outputs": [
    {
     "data": {
      "text/plain": [
       "64.0"
      ]
     },
     "execution_count": 31,
     "metadata": {},
     "output_type": "execute_result"
    }
   ],
   "source": [
    "# Respuesta\n",
    "((5+3)/(3-2))**2"
   ]
  },
  {
   "cell_type": "markdown",
   "metadata": {},
   "source": [
    "# 8. Solicite número de horas trabajadas y coste por horas e imprima el valor\n",
    "### Ejemplo:\n",
    "- Ingreso: 4 (horas)\n",
    "- ingreso: 80.000 (precio x hora)\n",
    "- imprime: 320.000"
   ]
  },
  {
   "cell_type": "code",
   "execution_count": 39,
   "metadata": {},
   "outputs": [
    {
     "name": "stdout",
     "output_type": "stream",
     "text": [
      "Horas: 4\n",
      "Precio: 80000\n",
      "Total: 320000\n"
     ]
    }
   ],
   "source": [
    "# Respuesta\n",
    "horas = int(input(\"Horas: \"))\n",
    "precio = float(input(\"Precio: \"))\n",
    "print(f\"Total: {precio * horas}\")"
   ]
  },
  {
   "cell_type": "markdown",
   "metadata": {},
   "source": [
    "# 9. Solicite la temperatura en grados Celsius e imprima en grados Kelvin y Fahrenheit \n",
    "### Ejemplo:\n",
    "- ingreso: 38 (°C)\n",
    "- imprime: 311.15 °K\n",
    "- imprime: 100.4 °F"
   ]
  },
  {
   "cell_type": "code",
   "execution_count": 46,
   "metadata": {},
   "outputs": [
    {
     "name": "stdout",
     "output_type": "stream",
     "text": [
      "Grados Celcius: 38\n",
      "38.0 °C\n",
      "311.15 °K\n",
      "100.4 °F\n"
     ]
    }
   ],
   "source": [
    "# Respuesta\n",
    "grados_celcius = float(input(\"Grados Celcius: \"))\n",
    "print(f\"{grados_celcius} °C\")\n",
    "print(f\"{273.15 + grados_celcius} °K\")\n",
    "print(f\"{1.8 * grados_celcius + 32} °F\")"
   ]
  },
  {
   "cell_type": "markdown",
   "metadata": {},
   "source": [
    "# 10. Solicite 2 numeros e imprima si el segundo es mayor  \n",
    "### Ejemplo:\n",
    "- ingreso: 2\n",
    "- ingreso: 3\n",
    "- impmrime: True"
   ]
  },
  {
   "cell_type": "code",
   "execution_count": 48,
   "metadata": {},
   "outputs": [
    {
     "name": "stdout",
     "output_type": "stream",
     "text": [
      "Número 1: 4\n",
      "Número 2: 5\n",
      "True\n"
     ]
    }
   ],
   "source": [
    "# Respuesta\n",
    "numero_1 = float(input(\"Número 1: \"))\n",
    "numero_2 = float(input(\"Número 2: \"))\n",
    "\n",
    "print(numero_2 > numero_1)"
   ]
  },
  {
   "cell_type": "markdown",
   "metadata": {},
   "source": [
    "# 11. Solicite 2 numeros e imprima si el segundo es menor  \n",
    "### Ejemplo:\n",
    "- ingreso: 2\n",
    "- ingreso: 3\n",
    "- impmrime: False"
   ]
  },
  {
   "cell_type": "code",
   "execution_count": 49,
   "metadata": {},
   "outputs": [
    {
     "name": "stdout",
     "output_type": "stream",
     "text": [
      "Número 1: 4\n",
      "Número 2: 2\n",
      "True\n"
     ]
    }
   ],
   "source": [
    "# Respuesta\n",
    "numero_1 = input(\"Número 1: \")\n",
    "numero_2 = input(\"Número 2: \")\n",
    "\n",
    "print(numero_2 < numero_1)"
   ]
  },
  {
   "cell_type": "markdown",
   "metadata": {},
   "source": [
    "# 12. Solicite una distancia (metros) y la velocidad (metros/segundos) e imprima el tiempo que se demora el recorrido\n",
    "### Ejemplo:\n",
    "- ingreso: 150 (metros)\n",
    "- ingreso: 15 (metros/segundo)\n",
    "- Imprime: 10 segundos"
   ]
  },
  {
   "cell_type": "code",
   "execution_count": 51,
   "metadata": {},
   "outputs": [
    {
     "name": "stdout",
     "output_type": "stream",
     "text": [
      "Metros: 150\n",
      "Metros/Segundo: 15\n",
      "Tiempo: 10.0 Segundos\n"
     ]
    }
   ],
   "source": [
    "# Respuesta\n",
    "metros = int(input(\"Metros: \"))\n",
    "velocidad = int(input(\"Metros/Segundo: \"))\n",
    "\n",
    "print(f\"Tiempo: {metros/velocidad} Segundos\")"
   ]
  },
  {
   "cell_type": "markdown",
   "metadata": {},
   "source": [
    "# 13. Solicite al usuario tres valores y escriba en código la siguiente ecuación\n",
    "$$ \\left(\\frac{a+b}{c}\\right) ^2 + \\left(\\frac{a-b}{c}\\right) ^ 2 $$"
   ]
  },
  {
   "cell_type": "code",
   "execution_count": 52,
   "metadata": {},
   "outputs": [
    {
     "name": "stdout",
     "output_type": "stream",
     "text": [
      "a: 1\n",
      "b: 2\n",
      "c: 3\n"
     ]
    },
    {
     "data": {
      "text/plain": [
       "1.1111111111111112"
      ]
     },
     "execution_count": 52,
     "metadata": {},
     "output_type": "execute_result"
    }
   ],
   "source": [
    "# Respuesta\n",
    "a = int(input(\"a: \"))\n",
    "b = int(input(\"b: \"))\n",
    "c = int(input(\"c: \"))\n",
    "\n",
    "((a+b)/c)**2 + ((a-b)/c)**2  "
   ]
  },
  {
   "cell_type": "markdown",
   "metadata": {},
   "source": [
    "# 14. Investigue como se saca la raíz cuadrada de un número en Python y escriba la solución en el cuadro de abajo"
   ]
  },
  {
   "cell_type": "code",
   "execution_count": 55,
   "metadata": {},
   "outputs": [
    {
     "name": "stdout",
     "output_type": "stream",
     "text": [
      "Número9\n",
      "3.0\n"
     ]
    }
   ],
   "source": [
    "# Respuesta\n",
    "numero = float(input(\"Número: \"))\n",
    "print(math.sqrt(numero))"
   ]
  },
  {
   "cell_type": "markdown",
   "metadata": {},
   "source": [
    "# 15.  Con lo anterior solicite 2 numeros (Cateto a y Cateto b) e imprima la hipotenusa.\n",
    "### Ejemplo:\n",
    "- ingreso: 3 (Cateto a)\n",
    "- ingreso: 4 (Cateto b)\n",
    "- imprime: Hipotenusa = 5"
   ]
  },
  {
   "cell_type": "code",
   "execution_count": 58,
   "metadata": {},
   "outputs": [
    {
     "name": "stdout",
     "output_type": "stream",
     "text": [
      "Cateto A: 3\n",
      "Cateto B: 4\n",
      "Hipotenusa: 5.0\n"
     ]
    }
   ],
   "source": [
    "# Respuesta\n",
    "cateto_a = float(input(\"Cateto A: \"))\n",
    "cateto_b = float(input(\"Cateto B: \"))\n",
    "\n",
    "print(f\"Hipotenusa: {math.sqrt(cateto_a**2 + cateto_b**2)}\")"
   ]
  }
 ],
 "metadata": {
  "kernelspec": {
   "display_name": "Python 3 (ipykernel)",
   "language": "python",
   "name": "python3"
  },
  "language_info": {
   "codemirror_mode": {
    "name": "ipython",
    "version": 3
   },
   "file_extension": ".py",
   "mimetype": "text/x-python",
   "name": "python",
   "nbconvert_exporter": "python",
   "pygments_lexer": "ipython3",
   "version": "3.8.10"
  }
 },
 "nbformat": 4,
 "nbformat_minor": 2
}
